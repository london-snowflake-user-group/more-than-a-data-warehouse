{
 "metadata": {
  "kernelspec": {
   "display_name": "Streamlit Notebook",
   "name": "streamlit"
  }
 },
 "nbformat_minor": 5,
 "nbformat": 4,
 "cells": [
  {
   "cell_type": "code",
   "id": "3775908f-ca36-4846-8f38-5adca39217f2",
   "metadata": {
    "language": "python",
    "name": "ImportLibraries",
    "collapsed": false,
    "codeCollapsed": false
   },
   "source": "# Import python packages\nimport streamlit as st\nimport pandas as pd\nimport snowflake.snowpark.modin.plugin\nimport modin.pandas as mpd\nimport snowflake.snowpark.modin.plugin\nimport warnings; warnings.simplefilter('ignore') # We sometimes get warnings in cell outputs, stop these from being displayed.\nimport timeit\nimport snowflake.snowpark.functions as F\n\n\n\nfrom time import perf_counter\nfrom snowflake.snowpark.context import get_active_session",
   "execution_count": null,
   "outputs": []
  },
  {
   "cell_type": "code",
   "id": "9ad8f96e-227c-4bc2-aed2-e5d95b7c51b5",
   "metadata": {
    "language": "python",
    "name": "SetSomeVariables",
    "collapsed": false,
    "codeCollapsed": false
   },
   "outputs": [],
   "source": "# Create a Snowflake session.\nsession = get_active_session()\n\n\n# What size dataset will we get?\nlineitem_table_name = 'UTILS.PUBLIC.TPCHSF1_LINEITEMS'\nlineitem_with_total_table_name = 'UTILS.PUBLIC.TPCHSF1_LINEITEMS_WITH_TOTAL'",
   "execution_count": null
  },
  {
   "cell_type": "code",
   "id": "926ebdd8-381a-49c9-b23c-8c6cbb31cc04",
   "metadata": {
    "language": "sql",
    "name": "SetupDataObjects",
    "collapsed": false,
    "codeCollapsed": false
   },
   "outputs": [],
   "source": "-- Copy the sample data from the share, otherwise the Pandas API needs to do a copy and so the tests aren't fair.\ncreate or replace table UTILS.PUBLIC.TPCHSF1_LINEITEMS as\nselect * from SNOWFLAKE_SAMPLE_DATA.TPCH_SF1.LINEITEM;\n\n\ncreate or replace table UTILS.PUBLIC.TPCHSF10_LINEITEMS as\nselect * from SNOWFLAKE_SAMPLE_DATA.TPCH_SF10.LINEITEM;\n\n\ncreate or replace table UTILS.PUBLIC.TPCHSF100_LINEITEMS as\nselect * from SNOWFLAKE_SAMPLE_DATA.TPCH_SF100.LINEITEM;\n\n\ncreate or replace table UTILS.PUBLIC.TPCHSF1000_LINEITEMS as\nselect * from SNOWFLAKE_SAMPLE_DATA.TPCH_SF1000.LINEITEM;",
   "execution_count": null
  },
  {
   "cell_type": "code",
   "id": "e6065a04-4933-4f1d-b989-f53f5370dc58",
   "metadata": {
    "language": "sql",
    "name": "CreateTestResultsTable",
    "collapsed": false,
    "codeCollapsed": false
   },
   "outputs": [],
   "source": "-- Create a table to store the test results.\ncreate or replace table UTILS.PUBLIC.TPCHSF_TEST_RESULTS (\n    METHOD varchar,\n    DATA_SIZE varchar,\n    DEFINE_TABLE_TIME number(12,4),\n    TRANSFORMING_TIME number(12,4),\n    WRITE_TABLE_TIME number(12,4),\n    TOTAL_TIME number(12,4),\n    RECORDS_WRITTEN number(12,0),\n    TEST_TIME timestamptz default current_timestamp()\n);",
   "execution_count": null
  },
  {
   "cell_type": "code",
   "id": "dcd96ad9-c54b-409c-8435-fd25a86c6d48",
   "metadata": {
    "language": "python",
    "name": "SnowparkCalculatesTotalPrice",
    "collapsed": false,
    "codeCollapsed": false
   },
   "outputs": [],
   "source": "# Start timing.\nstart = perf_counter()\n\n\n# Define a lazily-evaluated Snowpark Table.\nsnowpark_df = session.table( lineitem_table_name )\nend_defining_table = perf_counter()\n\n\n# We need to calculate the total price for each line item. Discount and tax are decimals, i.e. 0.04 = 4%.\n# Nothing will be sent to Snowflake yet, and we don't actually do anything.\nsnowpark_df = snowpark_df.with_column(\n    'L_TOTAL_PRICE', \n    F.col( 'L_EXTENDEDPRICE' ) * ( 1 - F.col( 'L_DISCOUNT' ) ) * ( 1 + F.col( 'L_TAX' ) ) \n)\nend_transformations = perf_counter()\n\n\n# Write the results to a Snowflake table.\nsnowpark_df.write.mode( 'overwrite' ).save_as_table( lineitem_with_total_table_name )\nend_saving_table = perf_counter()\n\n\n# End the whole test.\nend = perf_counter()\n\n\n# Lets calculate some timings.\ntime_defining_table = end_defining_table - start\ntime_transformationing = end_transformations - end_defining_table\ntime_saving = end_saving_table - end_transformations\ntime_total = end - start\n\n\n# How many records did we write?\nrecords_written = session.table( lineitem_with_total_table_name ).count()\n\n\n# Write the results out.\nst.write( str( '{0:,.4f}'.format( time_defining_table ) ) + ' seconds to define the Snowpark table.' )\nst.write( str( '{0:,.4f}'.format( time_transformationing ) ) + ' seconds to define the transformations.' )\nst.write( str( '{0:,.4f}'.format( time_saving ) ) + ' seconds to write to a table.' )\nst.write( str( '{0:,.4f}'.format( time_total ) ) + ' seconds in total.' )\nst.write( str( '{0:,.0f}'.format( records_written ) ) + ' records written.' )\n\n\n# Write the results.\ntest_data = [\n    ['SnowparkCalculatesTotalPrice', lineitem_with_total_table_name, time_defining_table, time_transformationing, time_saving, time_total, records_written]\n]\n\n# Create the pandas DataFrame\ntest_results = pd.DataFrame( \n    test_data, \n    columns=['METHOD', 'DATA_SIZE', 'DEFINE_TABLE_TIME', 'TRANSFORMING_TIME', 'WRITE_TABLE_TIME', 'TOTAL_TIME', 'RECORDS_WRITTEN']\n)\n\nsession.write_pandas( \n    df=test_results, \n    database='UTILS', \n    schema='PUBLIC', \n    table_name='TPCHSF_TEST_RESULTS'\n)",
   "execution_count": null
  },
  {
   "cell_type": "code",
   "id": "e34b62d4-58a9-4042-9710-01e4d9040997",
   "metadata": {
    "language": "python",
    "name": "PandasAPICalculatesTotalPrice",
    "collapsed": false,
    "codeCollapsed": false
   },
   "outputs": [],
   "source": "# Start timing.\nstart = perf_counter()\n\n\n# Define a lazily-evaluated Pandas Table.\nmodin_pandas_df = mpd.read_snowflake( lineitem_table_name )\nend_defining_table = perf_counter()\n\n\n# We need to calculate the total price for each line item. Discount and tax are decimals, i.e. 0.04 = 4%.\n# Nothing will be sent to Snowflake yet, and we don't actually do anything.\nmodin_pandas_df[\"L_TOTAL_PRICE\"] = modin_pandas_df[\"L_EXTENDEDPRICE\"] * \\\n    ( 1 - modin_pandas_df[\"L_DISCOUNT\"] ) * \\\n    ( 1 + modin_pandas_df[\"L_TAX\"] )\nend_transformations = perf_counter()\n\n\n# Save the result back to Snowflake with a row_pos column.\nmodin_pandas_df.reset_index(drop=True).to_snowflake(\n    'UTILS.PUBLIC.DELETEME', \n    if_exists='replace', \n    index=True, \n    index_label=['row_pos']\n)\nend_saving_table = perf_counter()\n\n\n# End the whole test.\nend = perf_counter()\n\n\n# Lets calculate some timings.\ntime_defining_table = end_defining_table - start\ntime_transformationing = end_transformations - end_defining_table\ntime_saving = end_saving_table - end_transformations\ntime_total = end - start\n\n\n# How many records did we write?\nrecords_written = session.table( lineitem_with_total_table_name ).count()\n\n\n# Write the results out.\nst.write( str( '{0:,.4f}'.format( time_defining_table ) ) + ' seconds to define the Modin Pandas Dataframe.' )\nst.write( str( '{0:,.4f}'.format( time_transformationing ) ) + ' seconds to define the transformations.' )\nst.write( str( '{0:,.4f}'.format( time_saving ) ) + ' seconds to write to a table.' )\nst.write( str( '{0:,.4f}'.format( time_total ) ) + ' seconds in total.' )\nst.write( str( '{0:,.0f}'.format( records_written ) ) + ' records written.' )\n\n\n# Write the test times to a table.\ntest_data = [\n    ['PandasAPICalculatesTotalPrice', lineitem_with_total_table_name, time_defining_table, time_transformationing, time_saving, time_total, records_written]\n]\n\n# Create the pandas DataFrame\ntest_results = pd.DataFrame( \n    test_data, \n    columns=['METHOD', 'DATA_SIZE', 'DEFINE_TABLE_TIME', 'TRANSFORMING_TIME', 'WRITE_TABLE_TIME', 'TOTAL_TIME', 'RECORDS_WRITTEN']\n)\n\nsession.write_pandas( \n    df=test_results, \n    database='UTILS', \n    schema='PUBLIC', \n    table_name='TPCHSF_TEST_RESULTS'\n)",
   "execution_count": null
  },
  {
   "cell_type": "code",
   "id": "bd6137f4-8e89-4edd-a7ca-7f414d4ea68b",
   "metadata": {
    "language": "python",
    "name": "PandasCalculatesTotalPrice",
    "collapsed": false,
    "codeCollapsed": false
   },
   "outputs": [],
   "source": "# Start timing.\nstart = perf_counter()\n\n\n# Define a lazily-evaluated Snowpark Table.\npandas_df = session.table( lineitem_table_name ).to_pandas()\nend_defining_table = perf_counter()\n\n\n# We need to calculate the total price for each line item. Discount and tax are decimals, i.e. 0.04 = 4%.\n# Nothing will be sent to Snowflake yet, and we don't actually do anything.\npandas_df['L_TOTAL_PRICE'] = pandas_df['L_EXTENDEDPRICE'] * \\\n    ( 1 - pandas_df[\"L_DISCOUNT\"] ) * \\\n    ( 1 + pandas_df[\"L_TAX\"] )\nend_transformations = perf_counter()\n\n\n# Write the results to a Snowflake table.\npandas_df = session.write_pandas( \n    pandas_df, \n    lineitem_with_total_table_name, \n    auto_create_table=True, \n    overwrite=True,\n    table_type='' # An empty string means to create a permanent table.\n)\nend_saving_table = perf_counter()\n\n\n# End the whole test.\nend = perf_counter()\n\n\n# Lets calculate some timings.\ntime_defining_table = end_defining_table - start\ntime_transformationing = end_transformations - end_defining_table\ntime_saving = end_saving_table - end_transformations\ntime_total = end - start\n\n\n# How many records did we write?\nrecords_written = session.table( lineitem_with_total_table_name ).count()\n\n\n# Write the results out.\nst.write( str( '{0:,.4f}'.format( time_defining_table ) ) + ' seconds to define the Pandas Dataframe.' )\nst.write( str( '{0:,.4f}'.format( time_transformationing ) ) + ' seconds to define the transformations.' )\nst.write( str( '{0:,.4f}'.format( time_saving ) ) + ' seconds to write to a table.' )\nst.write( str( '{0:,.4f}'.format( time_total ) ) + ' seconds in total.' )\nst.write( str( '{0:,.0f}'.format( records_written ) ) + ' records written.' )\n\n\n# Write the test times to a table.\ntest_data = [\n    ['PandasCalculatesTotalPrice', lineitem_with_total_table_name, time_defining_table, time_transformationing, time_saving, time_total, records_written]\n]\n\n# Create the pandas DataFrame\ntest_results = pd.DataFrame( \n    test_data, \n    columns=['METHOD', 'DATA_SIZE', 'DEFINE_TABLE_TIME', 'TRANSFORMING_TIME', 'WRITE_TABLE_TIME', 'TOTAL_TIME', 'RECORDS_WRITTEN']\n)\n\nsession.write_pandas( \n    df=test_results, \n    database='UTILS', \n    schema='PUBLIC', \n    table_name='TPCHSF_TEST_RESULTS'\n)",
   "execution_count": null
  },
  {
   "cell_type": "code",
   "id": "94c012d1-b0cf-4b91-807c-f46a93c277c7",
   "metadata": {
    "language": "python",
    "name": "WhatHappened",
    "collapsed": false,
    "codeCollapsed": false
   },
   "outputs": [],
   "source": "st.dataframe( session.sql( \"\"\"\n    select \n        METHOD::varchar,\n        DATA_SIZE::varchar,\n        DEFINE_TABLE_TIME::number(12,4),\n        TRANSFORMING_TIME::number(12,4),\n        WRITE_TABLE_TIME::number(12,4),\n        TOTAL_TIME::number(12,4),\n        RECORDS_WRITTEN::number(12,0),\n        TEST_TIME\n        \n    from UTILS.PUBLIC.TPCHSF_TEST_RESULTS\n\"\"\" ).to_pandas() )",
   "execution_count": null
  }
 ]
}